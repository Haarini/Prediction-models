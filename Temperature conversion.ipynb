{
  "nbformat": 4,
  "nbformat_minor": 0,
  "metadata": {
    "colab": {
      "name": "Untitled10.ipynb",
      "provenance": [],
      "authorship_tag": "ABX9TyOA6kQq/L78xeNdyu9abY7F",
      "include_colab_link": true
    },
    "kernelspec": {
      "name": "python3",
      "display_name": "Python 3"
    }
  },
  "cells": [
    {
      "cell_type": "markdown",
      "metadata": {
        "id": "view-in-github",
        "colab_type": "text"
      },
      "source": [
        "<a href=\"https://colab.research.google.com/github/Haarini/Prediction-models/blob/master/Temperature%20conversion.ipynb\" target=\"_parent\"><img src=\"https://colab.research.google.com/assets/colab-badge.svg\" alt=\"Open In Colab\"/></a>"
      ]
    },
    {
      "cell_type": "code",
      "metadata": {
        "id": "N1zlBeIv8czA",
        "colab_type": "code",
        "colab": {}
      },
      "source": [
        "import tensorflow as tf\n",
        "import numpy as np\n",
        "import logging\n",
        "logger=tf.get_logger()\n",
        "logger.setLevel(logging.ERROR)"
      ],
      "execution_count": 0,
      "outputs": []
    },
    {
      "cell_type": "code",
      "metadata": {
        "id": "51mQ47X48snZ",
        "colab_type": "code",
        "colab": {
          "base_uri": "https://localhost:8080/",
          "height": 141
        },
        "outputId": "ee03cf96-0051-4675-c2f2-6ff747fbe161"
      },
      "source": [
        "celsius_q=np.array([-40,10,0,8,15,22,38],dtype=float)\n",
        "fahrenheit_q=np.array([-40,14,32,46,59,72,100],dtype=float)\n",
        "for i,c in enumerate(celsius_q):\n",
        "  print(\"{} degree celsius = {}degree fahrenheit\".format(c,fahrenheit_q[i]))"
      ],
      "execution_count": 8,
      "outputs": [
        {
          "output_type": "stream",
          "text": [
            "-40.0 degree celsius = -40.0degree fahrenheit\n",
            "10.0 degree celsius = 14.0degree fahrenheit\n",
            "0.0 degree celsius = 32.0degree fahrenheit\n",
            "8.0 degree celsius = 46.0degree fahrenheit\n",
            "15.0 degree celsius = 59.0degree fahrenheit\n",
            "22.0 degree celsius = 72.0degree fahrenheit\n",
            "38.0 degree celsius = 100.0degree fahrenheit\n"
          ],
          "name": "stdout"
        }
      ]
    },
    {
      "cell_type": "code",
      "metadata": {
        "id": "a1NJbONM9KQ4",
        "colab_type": "code",
        "colab": {
          "base_uri": "https://localhost:8080/",
          "height": 194
        },
        "outputId": "0d567f81-2edb-4b9e-c0a8-a88ddd2a4e27"
      },
      "source": [
        "l0=tf.keras.layers.Dense(units=1,input_shape=[1])\n",
        "model=tf.keras.Sequential([l0])\n",
        "model=tf.keras.Sequential([tf.keras.layers.Dense(units=1,input_shape=[1])])\n",
        "model.compile(loss='mean_squared_error',optimizer=tf.keras.optimizers.Adam(0.1))\n",
        "model.summary()\n"
      ],
      "execution_count": 9,
      "outputs": [
        {
          "output_type": "stream",
          "text": [
            "Model: \"sequential_1\"\n",
            "_________________________________________________________________\n",
            "Layer (type)                 Output Shape              Param #   \n",
            "=================================================================\n",
            "dense_1 (Dense)              (None, 1)                 2         \n",
            "=================================================================\n",
            "Total params: 2\n",
            "Trainable params: 2\n",
            "Non-trainable params: 0\n",
            "_________________________________________________________________\n"
          ],
          "name": "stdout"
        }
      ]
    },
    {
      "cell_type": "code",
      "metadata": {
        "id": "yHkgluz-9tiM",
        "colab_type": "code",
        "colab": {
          "base_uri": "https://localhost:8080/",
          "height": 34
        },
        "outputId": "6e725c8a-6aaa-4ad5-a76e-5aa7f438880a"
      },
      "source": [
        "history=model.fit(celsius_q,fahrenheit_q,epochs=500,verbose=False)\n",
        "print(\"Model Training Finished\")"
      ],
      "execution_count": 10,
      "outputs": [
        {
          "output_type": "stream",
          "text": [
            "Model Training Finished\n"
          ],
          "name": "stdout"
        }
      ]
    },
    {
      "cell_type": "code",
      "metadata": {
        "id": "reT2p0sQImOA",
        "colab_type": "code",
        "colab": {
          "base_uri": "https://localhost:8080/",
          "height": 296
        },
        "outputId": "389b1ae1-d54c-4d72-88f0-99fde4cef349"
      },
      "source": [
        "import matplotlib.pyplot as plt\n",
        "plt.xlabel(\"Epoch Number\")\n",
        "plt.ylabel(\"Loss Magnitude\")\n",
        "plt.plot(history.history['loss'])"
      ],
      "execution_count": 11,
      "outputs": [
        {
          "output_type": "execute_result",
          "data": {
            "text/plain": [
              "[<matplotlib.lines.Line2D at 0x7f820f4c0b38>]"
            ]
          },
          "metadata": {
            "tags": []
          },
          "execution_count": 11
        },
        {
          "output_type": "display_data",
          "data": {
            "image/png": "[encoded data removed]",
            "text/plain": [
              "<Figure size 432x288 with 1 Axes>"
            ]
          },
          "metadata": {
            "tags": [],
            "needs_background": "light"
          }
        }
      ]
    },
    {
      "cell_type": "code",
      "metadata": {
        "id": "AVLTbFgyIsZX",
        "colab_type": "code",
        "colab": {
          "base_uri": "https://localhost:8080/",
          "height": 34
        },
        "outputId": "9d3c4ac7-fac7-4407-c62c-bd75bb495cdb"
      },
      "source": [
        "print(\"These are the layer variables: {}\".format(l0.get_weights()))"
      ],
      "execution_count": 7,
      "outputs": [
        {
          "output_type": "stream",
          "text": [
            "These are the layer variables: [array([[-0.05314374]], dtype=float32), array([0.], dtype=float32)]\n"
          ],
          "name": "stdout"
        }
      ]
    },
    {
      "cell_type": "code",
      "metadata": {
        "id": "l2zstcDDIvxd",
        "colab_type": "code",
        "colab": {
          "base_uri": "https://localhost:8080/",
          "height": 283
        },
        "outputId": "cde37b04-36ca-42aa-ec56-8688bce2d27f"
      },
      "source": [
        "l0 = tf.keras.layers.Dense(units=4, input_shape=[1])\n",
        "l1 = tf.keras.layers.Dense(units=4)\n",
        "l2 = tf.keras.layers.Dense(units=1)\n",
        "model = tf.keras.Sequential([l0, l1, l2])\n",
        "model.compile(loss='mean_squared_error', optimizer=tf.keras.optimizers.Adam(0.1))\n",
        "model.fit(celsius_q, fahrenheit_q, epochs=500, verbose=False)\n",
        "print(\"Finished training the model\")\n",
        "g=float(input(\"Enter a celsius value\"))\n",
        "print(model.predict([g]))\n",
        "print(\"Model predicts that 100 degrees Celsius is: {} degrees Fahrenheit\".format(model.predict([100.0])))\n",
        "print(\"These are the l0 variables: {}\".format(l0.get_weights()))\n",
        "print(\"These are the l1 variables: {}\".format(l1.get_weights()))\n",
        "print(\"These are the l2 variables: {}\".format(l2.get_weights()))\n"
      ],
      "execution_count": 12,
      "outputs": [
        {
          "output_type": "stream",
          "text": [
            "Finished training the model\n",
            "Enter a celsius value100.0\n",
            "[[204.32869]]\n",
            "Model predicts that 100 degrees Celsius is: [[204.32869]] degrees Fahrenheit\n",
            "These are the l0 variables: [array([[ 0.4168778 , -0.5218    ,  0.22757207, -1.1483673 ]],\n",
            "      dtype=float32), array([-2.9917321, -3.9234853,  2.000769 , -3.865223 ], dtype=float32)]\n",
            "These are the l1 variables: [array([[-1.5521725 ,  0.6194468 , -0.7509306 ,  0.29282314],\n",
            "       [-0.8886822 ,  0.43365598, -0.01268129,  0.31791505],\n",
            "       [ 0.24292754,  0.29704633, -0.90975296, -0.3420113 ],\n",
            "       [-0.3632536 , -0.02830554, -0.34665772,  1.1507932 ]],\n",
            "      dtype=float32), array([ 3.4024682,  1.2900617,  1.9673638, -3.5784938], dtype=float32)]\n",
            "These are the l2 variables: [array([[ 0.82217246],\n",
            "       [-0.05423268],\n",
            "       [ 0.18198682],\n",
            "       [-1.083541  ]], dtype=float32), array([3.4539146], dtype=float32)]\n"
          ],
          "name": "stdout"
        }
      ]
    }
  ]
}